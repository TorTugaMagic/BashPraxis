{
 "cells": [
  {
   "cell_type": "code",
   "execution_count": 13,
   "id": "1d994541",
   "metadata": {},
   "outputs": [
    {
     "name": "stdout",
     "output_type": "stream",
     "text": [
      "Enumerating objects: 13, done.\n",
      "Counting objects: 100% (13/13), done.\n",
      "Delta compression using up to 2 threads\n",
      "Compressing objects: 100% (9/9), done.\n",
      "Writing objects: 100% (11/11), 15.51 KiB | 7.76 MiB/s, done.\n",
      "Total 11 (delta 5), reused 0 (delta 0), pack-reused 0 (from 0)\n",
      "remote: Resolving deltas: 100% (5/5), completed with 2 local objects.\u001b[K\n",
      "To https://github.com/TorTugaMagic/BashPraxis\n",
      "   a72bef8..5efbdb8  main -> main\n"
     ]
    }
   ],
   "source": [
    "!git push origin main # para guardar en mi repositorio en la rama principal."
   ]
  },
  {
   "cell_type": "code",
   "execution_count": 11,
   "id": "8b99cbc7",
   "metadata": {
    "vscode": {
     "languageId": "powershell"
    }
   },
   "outputs": [],
   "source": [
    "!git add . # agregas todos los archivos modificados al area de transición listo para el commit"
   ]
  },
  {
   "cell_type": "code",
   "execution_count": 12,
   "id": "f1e434a5",
   "metadata": {
    "vscode": {
     "languageId": "powershell"
    }
   },
   "outputs": [
    {
     "name": "stdout",
     "output_type": "stream",
     "text": [
      "[main 5efbdb8] Bash actualizado\n",
      " 2 files changed, 25 insertions(+), 11 deletions(-)\n"
     ]
    }
   ],
   "source": [
    "!git commit -m \"Bash actualizado\" # Para agregar commit a la rama principal."
   ]
  },
  {
   "cell_type": "code",
   "execution_count": null,
   "id": "1534e4c6",
   "metadata": {
    "vscode": {
     "languageId": "powershell"
    }
   },
   "outputs": [],
   "source": []
  }
 ],
 "metadata": {
  "kernelspec": {
   "display_name": "Python 3",
   "language": "python",
   "name": "python3"
  },
  "language_info": {
   "codemirror_mode": {
    "name": "ipython",
    "version": 3
   },
   "file_extension": ".py",
   "mimetype": "text/x-python",
   "name": "python",
   "nbconvert_exporter": "python",
   "pygments_lexer": "ipython3",
   "version": "3.12.1"
  }
 },
 "nbformat": 4,
 "nbformat_minor": 5
}
