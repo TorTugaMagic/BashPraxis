{
 "cells": [
  {
   "cell_type": "code",
   "execution_count": null,
   "id": "1d994541",
   "metadata": {},
   "outputs": [],
   "source": [
    "git push origin main # para guardar en mi repositorio en la rama principal."
   ]
  },
  {
   "cell_type": "code",
   "execution_count": null,
   "id": "8b99cbc7",
   "metadata": {
    "vscode": {
     "languageId": "powershell"
    }
   },
   "outputs": [],
   "source": [
    "git add . # agregas todos los archivos modificados al area de transición listo para el commit"
   ]
  },
  {
   "cell_type": "code",
   "execution_count": 6,
   "id": "f1e434a5",
   "metadata": {
    "vscode": {
     "languageId": "powershell"
    }
   },
   "outputs": [
    {
     "ename": "SyntaxError",
     "evalue": "invalid syntax (3998204093.py, line 1)",
     "output_type": "error",
     "traceback": [
      "  \u001b[36mCell\u001b[39m\u001b[36m \u001b[39m\u001b[32mIn[6]\u001b[39m\u001b[32m, line 1\u001b[39m\n\u001b[31m    \u001b[39m\u001b[31mgit commit -m \"Actualizado\" # Para agregar commit a la rama principal.\u001b[39m\n        ^\n\u001b[31mSyntaxError\u001b[39m\u001b[31m:\u001b[39m invalid syntax\n"
     ]
    }
   ],
   "source": [
    "git commit -m \"Actualizado\" # Para agregar commit a la rama principal."
   ]
  }
 ],
 "metadata": {
  "kernelspec": {
   "display_name": "Python 3",
   "language": "python",
   "name": "python3"
  },
  "language_info": {
   "codemirror_mode": {
    "name": "ipython",
    "version": 3
   },
   "file_extension": ".py",
   "mimetype": "text/x-python",
   "name": "python",
   "nbconvert_exporter": "python",
   "pygments_lexer": "ipython3",
   "version": "3.12.1"
  }
 },
 "nbformat": 4,
 "nbformat_minor": 5
}
