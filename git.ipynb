{
 "cells": [
  {
   "cell_type": "code",
   "execution_count": 8,
   "id": "1d994541",
   "metadata": {},
   "outputs": [
    {
     "name": "stdout",
     "output_type": "stream",
     "text": [
      "Enumerating objects: 6, done.\n",
      "Counting objects: 100% (6/6), done.\n",
      "Delta compression using up to 2 threads\n",
      "Compressing objects: 100% (4/4), done.\n",
      "Writing objects: 100% (4/4), 1.51 KiB | 1.51 MiB/s, done.\n",
      "Total 4 (delta 2), reused 0 (delta 0), pack-reused 0 (from 0)\n",
      "remote: Resolving deltas: 100% (2/2), completed with 2 local objects.\u001b[K\n",
      "To https://github.com/TorTugaMagic/BashPraxis\n",
      "   ccfc784..a72bef8  main -> main\n"
     ]
    }
   ],
   "source": [
    "!git push origin main # para guardar en mi repositorio en la rama principal."
   ]
  },
  {
   "cell_type": "code",
   "execution_count": null,
   "id": "8b99cbc7",
   "metadata": {
    "vscode": {
     "languageId": "powershell"
    }
   },
   "outputs": [],
   "source": [
    "!git add . # agregas todos los archivos modificados al area de transición listo para el commit"
   ]
  },
  {
   "cell_type": "code",
   "execution_count": 7,
   "id": "f1e434a5",
   "metadata": {
    "vscode": {
     "languageId": "powershell"
    }
   },
   "outputs": [
    {
     "name": "stdout",
     "output_type": "stream",
     "text": [
      "[main a72bef8] Bash actualizado\n",
      " 5 files changed, 228 insertions(+), 101 deletions(-)\n",
      " delete mode 100644 bash.ipynb\n",
      " create mode 100644 bash_pip.ipynb\n",
      " create mode 100644 newfile.Text\n",
      " create mode 100644 newfile2.Text\n"
     ]
    }
   ],
   "source": [
    "!git commit -m \"Bash actualizado\" # Para agregar commit a la rama principal."
   ]
  }
 ],
 "metadata": {
  "kernelspec": {
   "display_name": "Python 3",
   "language": "python",
   "name": "python3"
  },
  "language_info": {
   "codemirror_mode": {
    "name": "ipython",
    "version": 3
   },
   "file_extension": ".py",
   "mimetype": "text/x-python",
   "name": "python",
   "nbconvert_exporter": "python",
   "pygments_lexer": "ipython3",
   "version": "3.12.1"
  }
 },
 "nbformat": 4,
 "nbformat_minor": 5
}
