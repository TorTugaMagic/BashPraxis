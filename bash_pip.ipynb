{
 "cells": [
  {
   "cell_type": "markdown",
   "id": "6c388212",
   "metadata": {},
   "source": [
    "Lo primero que hay que hacer es instalar las aplicacion de Python desde el área de aplicaciones para que se pueda trabajar en este archivo."
   ]
  },
  {
   "cell_type": "code",
   "execution_count": null,
   "id": "38eaa2a9",
   "metadata": {},
   "outputs": [],
   "source": [
    "pwd  # para saber el área de trabjao donde nos encontramos."
   ]
  },
  {
   "cell_type": "code",
   "execution_count": null,
   "id": "bbd9f624",
   "metadata": {},
   "outputs": [],
   "source": []
  },
  {
   "cell_type": "code",
   "execution_count": null,
   "id": "7ae10d62",
   "metadata": {},
   "outputs": [],
   "source": [
    "ls # para ver los archivos que tenemos en el espacio de trabajo.\n"
   ]
  },
  {
   "cell_type": "code",
   "execution_count": null,
   "id": "ad2c8342",
   "metadata": {},
   "outputs": [],
   "source": [
    "ls -l /usr/bin"
   ]
  },
  {
   "cell_type": "code",
   "execution_count": 2,
   "id": "742bfab2",
   "metadata": {},
   "outputs": [
    {
     "name": "stdout",
     "output_type": "stream",
     "text": [
      "1008\n"
     ]
    }
   ],
   "source": [
    "ls -l /usr/bin | wc -l"
   ]
  },
  {
   "cell_type": "code",
   "execution_count": 4,
   "id": "9c3100c4",
   "metadata": {},
   "outputs": [],
   "source": [
    "ls -l /usr/bin | wc -l > binn.txt  # para crear un archivo a paratir de la busqueda.(se debe de poner el terminal o instalar la aplicacion de bash y corre directamente en este archivo.)"
   ]
  },
  {
   "cell_type": "code",
   "execution_count": 3,
   "id": "df581195",
   "metadata": {},
   "outputs": [
    {
     "name": "stdout",
     "output_type": "stream",
     "text": [
      "1008\n"
     ]
    }
   ],
   "source": [
    "cat bin.txt "
   ]
  },
  {
   "cell_type": "code",
   "execution_count": null,
   "id": "c2872a3e",
   "metadata": {},
   "outputs": [
    {
     "name": "stdout",
     "output_type": "stream",
     "text": [
      "ls: cannot access '/wrongpath': No such file or directory\n"
     ]
    }
   ],
   "source": [
    "ls -l /wrongpath && touch newfile.Text # en este caso no sea crea un nuevo archivo porque no exite el archivo mencionado en el directorio."
   ]
  },
  {
   "cell_type": "code",
   "execution_count": 6,
   "id": "3f3bde6a",
   "metadata": {},
   "outputs": [
    {
     "name": "stdout",
     "output_type": "stream",
     "text": [
      "README.md  bash_pip.ipynb  bin.txt  binn.txt  git.ipynb  git.txt  guardar.sh\n"
     ]
    }
   ],
   "source": [
    "ls"
   ]
  },
  {
   "cell_type": "code",
   "execution_count": 9,
   "id": "ebef6ab4",
   "metadata": {},
   "outputs": [
    {
     "name": "stdout",
     "output_type": "stream",
     "text": [
      "-rw-rw-rw- 1 codespace root 126 May 27 15:13 README.md\n"
     ]
    }
   ],
   "source": [
    "ls -l README.md && touch newfile.Text # un archivo con condicional, en este caso si exite Readme.md se crea newfile.txt"
   ]
  },
  {
   "cell_type": "code",
   "execution_count": 10,
   "id": "b9c3244a",
   "metadata": {},
   "outputs": [
    {
     "name": "stdout",
     "output_type": "stream",
     "text": [
      "README.md       bin.txt   git.ipynb  guardar.sh\n",
      "bash_pip.ipynb  binn.txt  git.txt    newfile.Text\n"
     ]
    }
   ],
   "source": [
    "ls"
   ]
  },
  {
   "cell_type": "code",
   "execution_count": 11,
   "id": "b4c957e9",
   "metadata": {},
   "outputs": [
    {
     "name": "stdout",
     "output_type": "stream",
     "text": [
      "-rw-rw-rw- 1 codespace root 126 May 27 15:13 README.md\n"
     ]
    }
   ],
   "source": [
    "ls -l README.md && touch newfile2.Text"
   ]
  }
 ],
 "metadata": {
  "kernelspec": {
   "display_name": "Python 3",
   "language": "python",
   "name": "python3"
  },
  "language_info": {
   "codemirror_mode": {
    "name": "ipython",
    "version": 3
   },
   "file_extension": ".py",
   "mimetype": "text/x-python",
   "name": "python",
   "nbconvert_exporter": "python",
   "pygments_lexer": "ipython3",
   "version": "3.12.1"
  }
 },
 "nbformat": 4,
 "nbformat_minor": 5
}
