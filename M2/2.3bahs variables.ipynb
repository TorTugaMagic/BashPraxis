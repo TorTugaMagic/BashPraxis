{
 "cells": [
  {
   "cell_type": "code",
   "execution_count": 1,
   "id": "72cce728",
   "metadata": {},
   "outputs": [
    {
     "name": "stdout",
     "output_type": "stream",
     "text": [
      "\n"
     ]
    }
   ],
   "source": [
    "!echo $VAR"
   ]
  },
  {
   "cell_type": "code",
   "execution_count": null,
   "id": "7917c855",
   "metadata": {},
   "outputs": [],
   "source": [
    "vim ~/.bashrc"
   ]
  },
  {
   "cell_type": "code",
   "execution_count": null,
   "id": "023e421d",
   "metadata": {},
   "outputs": [],
   "source": []
  },
  {
   "cell_type": "markdown",
   "id": "25d3f962",
   "metadata": {},
   "source": [
    "astroid           2.6.2    \n",
    "certifi           2021.5.30\n",
    "chardet           4.0.0    \n",
    "dbus-python       1.2.16   \n",
    "idna              2.10     \n",
    "isort             5.9.2    \n",
    "lazy-object-proxy 1.6.0    \n",
    "mccabe            0.6.1    \n",
    "pip               20.0.2   \n",
    "PyGObject         3.36.0   \n",
    "pylint            2.9.3    \n",
    "requests          2.25.1   \n",
    "setuptools        57.1.0   \n",
    "toml              0.10.2   \n",
    "urllib3           1.26.6   \n",
    "wheel             0.34.2   \n",
    "wrapt             1.12.1   "
   ]
  },
  {
   "cell_type": "markdown",
   "id": "a264872d",
   "metadata": {},
   "source": [
    "export JAVA_HOME=$(readlink -f /usr/bin/javac | sed \"s:/bin/javac::\")\n",
    "export TERM=xterm"
   ]
  }
 ],
 "metadata": {
  "kernelspec": {
   "display_name": "Python 3",
   "language": "python",
   "name": "python3"
  },
  "language_info": {
   "codemirror_mode": {
    "name": "ipython",
    "version": 3
   },
   "file_extension": ".py",
   "mimetype": "text/x-python",
   "name": "python",
   "nbconvert_exporter": "python",
   "pygments_lexer": "ipython3",
   "version": "3.12.1"
  }
 },
 "nbformat": 4,
 "nbformat_minor": 5
}
