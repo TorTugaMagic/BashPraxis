{
 "cells": [
  {
   "cell_type": "markdown",
   "id": "6c388212",
   "metadata": {},
   "source": [
    "Lo primero que hay que hacer es instalar las aplicacion de Python desde el área de aplicaciones para que se pueda trabajar en este archivo."
   ]
  },
  {
   "cell_type": "code",
   "execution_count": 3,
   "id": "38eaa2a9",
   "metadata": {},
   "outputs": [
    {
     "data": {
      "text/plain": [
       "'/workspaces/BashPraxis'"
      ]
     },
     "execution_count": 3,
     "metadata": {},
     "output_type": "execute_result"
    }
   ],
   "source": [
    "pwd  # para saber el área de trabjao donde nos encontramos."
   ]
  },
  {
   "cell_type": "code",
   "execution_count": null,
   "id": "7ae10d62",
   "metadata": {},
   "outputs": [],
   "source": [
    "ls # para ver los archivos que tenemos en el espacio de trabajo.\n"
   ]
  },
  {
   "cell_type": "code",
   "execution_count": 1,
   "id": "9c3100c4",
   "metadata": {},
   "outputs": [],
   "source": [
    "ls -l /usr/bin | wc -l > binn.txt  # para crear un archivo a paratir de la busqueda.(se debe de poner el terminal o instalar la aplicacion de bash y corre directamente en este archivo.)"
   ]
  },
  {
   "cell_type": "code",
   "execution_count": null,
   "id": "df581195",
   "metadata": {
    "vscode": {
     "languageId": "powershell"
    }
   },
   "outputs": [],
   "source": []
  }
 ],
 "metadata": {
  "kernelspec": {
   "display_name": "Python 3",
   "language": "python",
   "name": "python3"
  },
  "language_info": {
   "codemirror_mode": {
    "name": "ipython",
    "version": 3
   },
   "file_extension": ".py",
   "mimetype": "text/x-python",
   "name": "python",
   "nbconvert_exporter": "python",
   "pygments_lexer": "ipython3",
   "version": "3.12.1"
  }
 },
 "nbformat": 4,
 "nbformat_minor": 5
}
